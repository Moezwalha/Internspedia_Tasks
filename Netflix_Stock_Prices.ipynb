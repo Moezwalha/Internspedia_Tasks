{
  "cells": [
    {
      "cell_type": "markdown",
      "metadata": {
        "id": "sVYfluv0hVZm"
      },
      "source": [
        "<font color=\"red\" size=\"6\">  Netflix Stock Price Prediction using LSTM"
      ]
    },
    {
      "cell_type": "markdown",
      "metadata": {
        "id": "hUl9t12jhVZt"
      },
      "source": [
        "____________________________________________________________________________________________________"
      ]
    },
    {
      "cell_type": "markdown",
      "metadata": {
        "id": "XIbwQw_AhVZu"
      },
      "source": [
        "<font color=\"blue\" size=\"5\">Introduction</font>\n",
        "\n",
        "**The objective of this project is to produce a trained model able to accurately predict stock prices, in turn, providing assistance when trading and understanding the market. This project specifically used data containing Netflix’s stock prices from Juillet 2015 to June 2022.**"
      ]
    },
    {
      "cell_type": "markdown",
      "metadata": {
        "id": "YEIALKPNhVZv"
      },
      "source": [
        "__________________________________________________________________________________________________________________"
      ]
    },
    {
      "cell_type": "markdown",
      "metadata": {
        "id": "V_aQ3vVahVZv"
      },
      "source": [
        "<font color=\"blue\" size=\"5\">Package"
      ]
    },
    {
      "cell_type": "code",
      "execution_count": null,
      "metadata": {
        "id": "XLN2IDq7hVZw"
      },
      "outputs": [],
      "source": [
        "# import required libraries in this notebook\n",
        "import numpy as np\n",
        "import pandas as pd\n",
        "import matplotlib.pyplot as plt\n",
        "import seaborn as sns\n",
        "from sklearn.preprocessing import MinMaxScaler\n",
        "import keras\n",
        "from keras.models import Sequential\n",
        "from keras.layers import Dense,LSTM,Dropout\n",
        "from keras.callbacks import EarlyStopping\n",
        "from tensorflow.keras.optimizers import Adam "
      ]
    },
    {
      "cell_type": "markdown",
      "metadata": {
        "id": "JFGm3bfPhVZx"
      },
      "source": [
        "<font color=\"blue\" size=\"5\">Data Selection Using Web Scrapping"
      ]
    },
    {
      "cell_type": "code",
      "execution_count": null,
      "metadata": {
        "colab": {
          "base_uri": "https://localhost:8080/"
        },
        "id": "kNDmnVciQmxK",
        "outputId": "39a7983b-d9a7-4a9d-c2e8-6fe9c3698695"
      },
      "outputs": [
        {
          "output_type": "stream",
          "name": "stdout",
          "text": [
            ">>>  Historical data of NFLX saved\n"
          ]
        }
      ],
      "source": [
        "from importlib.machinery import SourceFileLoader \n",
        "# imports the module from the given path\n",
        "file = SourceFileLoader(\"file\",\"file.py\").load_module()"
      ]
    },
    {
      "cell_type": "code",
      "execution_count": null,
      "metadata": {
        "colab": {
          "base_uri": "https://localhost:8080/",
          "height": 206
        },
        "id": "HFUJTuEWhVZy",
        "outputId": "797c093f-a59a-460f-fbfc-9a047a709ba1"
      },
      "outputs": [
        {
          "output_type": "execute_result",
          "data": {
            "text/plain": [
              "         Date         Low        Open    Volume        High       Close  \\\n",
              "0  16-07-2015  107.680000  111.019997  63461000  116.489998  115.809998   \n",
              "1  17-07-2015  114.239998  117.339996  25136900  117.879997  114.769997   \n",
              "2  20-07-2015  110.139999  114.699997  22676900  114.699997  110.550003   \n",
              "3  21-07-2015  109.320000  110.209999  14085400  113.709999  112.510002   \n",
              "4  22-07-2015  110.559998  112.139999  10500500  113.879997  111.500000   \n",
              "\n",
              "   Adjusted Close  \n",
              "0      115.809998  \n",
              "1      114.769997  \n",
              "2      110.550003  \n",
              "3      112.510002  \n",
              "4      111.500000  "
            ],
            "text/html": [
              "\n",
              "  <div id=\"df-cd113130-a26f-43e9-9396-f868206cf7bc\">\n",
              "    <div class=\"colab-df-container\">\n",
              "      <div>\n",
              "<style scoped>\n",
              "    .dataframe tbody tr th:only-of-type {\n",
              "        vertical-align: middle;\n",
              "    }\n",
              "\n",
              "    .dataframe tbody tr th {\n",
              "        vertical-align: top;\n",
              "    }\n",
              "\n",
              "    .dataframe thead th {\n",
              "        text-align: right;\n",
              "    }\n",
              "</style>\n",
              "<table border=\"1\" class=\"dataframe\">\n",
              "  <thead>\n",
              "    <tr style=\"text-align: right;\">\n",
              "      <th></th>\n",
              "      <th>Date</th>\n",
              "      <th>Low</th>\n",
              "      <th>Open</th>\n",
              "      <th>Volume</th>\n",
              "      <th>High</th>\n",
              "      <th>Close</th>\n",
              "      <th>Adjusted Close</th>\n",
              "    </tr>\n",
              "  </thead>\n",
              "  <tbody>\n",
              "    <tr>\n",
              "      <th>0</th>\n",
              "      <td>16-07-2015</td>\n",
              "      <td>107.680000</td>\n",
              "      <td>111.019997</td>\n",
              "      <td>63461000</td>\n",
              "      <td>116.489998</td>\n",
              "      <td>115.809998</td>\n",
              "      <td>115.809998</td>\n",
              "    </tr>\n",
              "    <tr>\n",
              "      <th>1</th>\n",
              "      <td>17-07-2015</td>\n",
              "      <td>114.239998</td>\n",
              "      <td>117.339996</td>\n",
              "      <td>25136900</td>\n",
              "      <td>117.879997</td>\n",
              "      <td>114.769997</td>\n",
              "      <td>114.769997</td>\n",
              "    </tr>\n",
              "    <tr>\n",
              "      <th>2</th>\n",
              "      <td>20-07-2015</td>\n",
              "      <td>110.139999</td>\n",
              "      <td>114.699997</td>\n",
              "      <td>22676900</td>\n",
              "      <td>114.699997</td>\n",
              "      <td>110.550003</td>\n",
              "      <td>110.550003</td>\n",
              "    </tr>\n",
              "    <tr>\n",
              "      <th>3</th>\n",
              "      <td>21-07-2015</td>\n",
              "      <td>109.320000</td>\n",
              "      <td>110.209999</td>\n",
              "      <td>14085400</td>\n",
              "      <td>113.709999</td>\n",
              "      <td>112.510002</td>\n",
              "      <td>112.510002</td>\n",
              "    </tr>\n",
              "    <tr>\n",
              "      <th>4</th>\n",
              "      <td>22-07-2015</td>\n",
              "      <td>110.559998</td>\n",
              "      <td>112.139999</td>\n",
              "      <td>10500500</td>\n",
              "      <td>113.879997</td>\n",
              "      <td>111.500000</td>\n",
              "      <td>111.500000</td>\n",
              "    </tr>\n",
              "  </tbody>\n",
              "</table>\n",
              "</div>\n",
              "      <button class=\"colab-df-convert\" onclick=\"convertToInteractive('df-cd113130-a26f-43e9-9396-f868206cf7bc')\"\n",
              "              title=\"Convert this dataframe to an interactive table.\"\n",
              "              style=\"display:none;\">\n",
              "        \n",
              "  <svg xmlns=\"http://www.w3.org/2000/svg\" height=\"24px\"viewBox=\"0 0 24 24\"\n",
              "       width=\"24px\">\n",
              "    <path d=\"M0 0h24v24H0V0z\" fill=\"none\"/>\n",
              "    <path d=\"M18.56 5.44l.94 2.06.94-2.06 2.06-.94-2.06-.94-.94-2.06-.94 2.06-2.06.94zm-11 1L8.5 8.5l.94-2.06 2.06-.94-2.06-.94L8.5 2.5l-.94 2.06-2.06.94zm10 10l.94 2.06.94-2.06 2.06-.94-2.06-.94-.94-2.06-.94 2.06-2.06.94z\"/><path d=\"M17.41 7.96l-1.37-1.37c-.4-.4-.92-.59-1.43-.59-.52 0-1.04.2-1.43.59L10.3 9.45l-7.72 7.72c-.78.78-.78 2.05 0 2.83L4 21.41c.39.39.9.59 1.41.59.51 0 1.02-.2 1.41-.59l7.78-7.78 2.81-2.81c.8-.78.8-2.07 0-2.86zM5.41 20L4 18.59l7.72-7.72 1.47 1.35L5.41 20z\"/>\n",
              "  </svg>\n",
              "      </button>\n",
              "      \n",
              "  <style>\n",
              "    .colab-df-container {\n",
              "      display:flex;\n",
              "      flex-wrap:wrap;\n",
              "      gap: 12px;\n",
              "    }\n",
              "\n",
              "    .colab-df-convert {\n",
              "      background-color: #E8F0FE;\n",
              "      border: none;\n",
              "      border-radius: 50%;\n",
              "      cursor: pointer;\n",
              "      display: none;\n",
              "      fill: #1967D2;\n",
              "      height: 32px;\n",
              "      padding: 0 0 0 0;\n",
              "      width: 32px;\n",
              "    }\n",
              "\n",
              "    .colab-df-convert:hover {\n",
              "      background-color: #E2EBFA;\n",
              "      box-shadow: 0px 1px 2px rgba(60, 64, 67, 0.3), 0px 1px 3px 1px rgba(60, 64, 67, 0.15);\n",
              "      fill: #174EA6;\n",
              "    }\n",
              "\n",
              "    [theme=dark] .colab-df-convert {\n",
              "      background-color: #3B4455;\n",
              "      fill: #D2E3FC;\n",
              "    }\n",
              "\n",
              "    [theme=dark] .colab-df-convert:hover {\n",
              "      background-color: #434B5C;\n",
              "      box-shadow: 0px 1px 3px 1px rgba(0, 0, 0, 0.15);\n",
              "      filter: drop-shadow(0px 1px 2px rgba(0, 0, 0, 0.3));\n",
              "      fill: #FFFFFF;\n",
              "    }\n",
              "  </style>\n",
              "\n",
              "      <script>\n",
              "        const buttonEl =\n",
              "          document.querySelector('#df-cd113130-a26f-43e9-9396-f868206cf7bc button.colab-df-convert');\n",
              "        buttonEl.style.display =\n",
              "          google.colab.kernel.accessAllowed ? 'block' : 'none';\n",
              "\n",
              "        async function convertToInteractive(key) {\n",
              "          const element = document.querySelector('#df-cd113130-a26f-43e9-9396-f868206cf7bc');\n",
              "          const dataTable =\n",
              "            await google.colab.kernel.invokeFunction('convertToInteractive',\n",
              "                                                     [key], {});\n",
              "          if (!dataTable) return;\n",
              "\n",
              "          const docLinkHtml = 'Like what you see? Visit the ' +\n",
              "            '<a target=\"_blank\" href=https://colab.research.google.com/notebooks/data_table.ipynb>data table notebook</a>'\n",
              "            + ' to learn more about interactive tables.';\n",
              "          element.innerHTML = '';\n",
              "          dataTable['output_type'] = 'display_data';\n",
              "          await google.colab.output.renderOutput(dataTable, element);\n",
              "          const docLink = document.createElement('div');\n",
              "          docLink.innerHTML = docLinkHtml;\n",
              "          element.appendChild(docLink);\n",
              "        }\n",
              "      </script>\n",
              "    </div>\n",
              "  </div>\n",
              "  "
            ]
          },
          "metadata": {},
          "execution_count": 4
        }
      ],
      "source": [
        "# #Load Data\n",
        "df = pd.read_csv(\"../historic_data/csv/NFLX.csv\")\n",
        "# Show the first 5 rows of the dataframe\n",
        "df.head()"
      ]
    },
    {
      "cell_type": "code",
      "execution_count": null,
      "metadata": {
        "colab": {
          "base_uri": "https://localhost:8080/",
          "height": 206
        },
        "id": "T0fGgoGChVZz",
        "outputId": "e6a3b409-515e-46ca-aa83-afaea8664fd6"
      },
      "outputs": [
        {
          "output_type": "execute_result",
          "data": {
            "text/plain": [
              "            Date         Low        Open    Volume        High       Close  \\\n",
              "1758  11-07-2022  176.889999  184.729996   6038800  184.990005  177.339996   \n",
              "1759  12-07-2022  173.419998  177.330002   6845300  179.779999  174.449997   \n",
              "1760  13-07-2022  169.699997  170.500000  12734400  179.179993  176.559998   \n",
              "1761  14-07-2022  171.820007  175.559998   9039500  177.520004  174.779999   \n",
              "1762  15-07-2022  174.559998  175.580002  16215100  189.220001  189.110001   \n",
              "\n",
              "      Adjusted Close  \n",
              "1758      177.339996  \n",
              "1759      174.449997  \n",
              "1760      176.559998  \n",
              "1761      174.779999  \n",
              "1762      189.110001  "
            ],
            "text/html": [
              "\n",
              "  <div id=\"df-6bb87e86-fd61-4f41-b0b8-0b6a1178a427\">\n",
              "    <div class=\"colab-df-container\">\n",
              "      <div>\n",
              "<style scoped>\n",
              "    .dataframe tbody tr th:only-of-type {\n",
              "        vertical-align: middle;\n",
              "    }\n",
              "\n",
              "    .dataframe tbody tr th {\n",
              "        vertical-align: top;\n",
              "    }\n",
              "\n",
              "    .dataframe thead th {\n",
              "        text-align: right;\n",
              "    }\n",
              "</style>\n",
              "<table border=\"1\" class=\"dataframe\">\n",
              "  <thead>\n",
              "    <tr style=\"text-align: right;\">\n",
              "      <th></th>\n",
              "      <th>Date</th>\n",
              "      <th>Low</th>\n",
              "      <th>Open</th>\n",
              "      <th>Volume</th>\n",
              "      <th>High</th>\n",
              "      <th>Close</th>\n",
              "      <th>Adjusted Close</th>\n",
              "    </tr>\n",
              "  </thead>\n",
              "  <tbody>\n",
              "    <tr>\n",
              "      <th>1758</th>\n",
              "      <td>11-07-2022</td>\n",
              "      <td>176.889999</td>\n",
              "      <td>184.729996</td>\n",
              "      <td>6038800</td>\n",
              "      <td>184.990005</td>\n",
              "      <td>177.339996</td>\n",
              "      <td>177.339996</td>\n",
              "    </tr>\n",
              "    <tr>\n",
              "      <th>1759</th>\n",
              "      <td>12-07-2022</td>\n",
              "      <td>173.419998</td>\n",
              "      <td>177.330002</td>\n",
              "      <td>6845300</td>\n",
              "      <td>179.779999</td>\n",
              "      <td>174.449997</td>\n",
              "      <td>174.449997</td>\n",
              "    </tr>\n",
              "    <tr>\n",
              "      <th>1760</th>\n",
              "      <td>13-07-2022</td>\n",
              "      <td>169.699997</td>\n",
              "      <td>170.500000</td>\n",
              "      <td>12734400</td>\n",
              "      <td>179.179993</td>\n",
              "      <td>176.559998</td>\n",
              "      <td>176.559998</td>\n",
              "    </tr>\n",
              "    <tr>\n",
              "      <th>1761</th>\n",
              "      <td>14-07-2022</td>\n",
              "      <td>171.820007</td>\n",
              "      <td>175.559998</td>\n",
              "      <td>9039500</td>\n",
              "      <td>177.520004</td>\n",
              "      <td>174.779999</td>\n",
              "      <td>174.779999</td>\n",
              "    </tr>\n",
              "    <tr>\n",
              "      <th>1762</th>\n",
              "      <td>15-07-2022</td>\n",
              "      <td>174.559998</td>\n",
              "      <td>175.580002</td>\n",
              "      <td>16215100</td>\n",
              "      <td>189.220001</td>\n",
              "      <td>189.110001</td>\n",
              "      <td>189.110001</td>\n",
              "    </tr>\n",
              "  </tbody>\n",
              "</table>\n",
              "</div>\n",
              "      <button class=\"colab-df-convert\" onclick=\"convertToInteractive('df-6bb87e86-fd61-4f41-b0b8-0b6a1178a427')\"\n",
              "              title=\"Convert this dataframe to an interactive table.\"\n",
              "              style=\"display:none;\">\n",
              "        \n",
              "  <svg xmlns=\"http://www.w3.org/2000/svg\" height=\"24px\"viewBox=\"0 0 24 24\"\n",
              "       width=\"24px\">\n",
              "    <path d=\"M0 0h24v24H0V0z\" fill=\"none\"/>\n",
              "    <path d=\"M18.56 5.44l.94 2.06.94-2.06 2.06-.94-2.06-.94-.94-2.06-.94 2.06-2.06.94zm-11 1L8.5 8.5l.94-2.06 2.06-.94-2.06-.94L8.5 2.5l-.94 2.06-2.06.94zm10 10l.94 2.06.94-2.06 2.06-.94-2.06-.94-.94-2.06-.94 2.06-2.06.94z\"/><path d=\"M17.41 7.96l-1.37-1.37c-.4-.4-.92-.59-1.43-.59-.52 0-1.04.2-1.43.59L10.3 9.45l-7.72 7.72c-.78.78-.78 2.05 0 2.83L4 21.41c.39.39.9.59 1.41.59.51 0 1.02-.2 1.41-.59l7.78-7.78 2.81-2.81c.8-.78.8-2.07 0-2.86zM5.41 20L4 18.59l7.72-7.72 1.47 1.35L5.41 20z\"/>\n",
              "  </svg>\n",
              "      </button>\n",
              "      \n",
              "  <style>\n",
              "    .colab-df-container {\n",
              "      display:flex;\n",
              "      flex-wrap:wrap;\n",
              "      gap: 12px;\n",
              "    }\n",
              "\n",
              "    .colab-df-convert {\n",
              "      background-color: #E8F0FE;\n",
              "      border: none;\n",
              "      border-radius: 50%;\n",
              "      cursor: pointer;\n",
              "      display: none;\n",
              "      fill: #1967D2;\n",
              "      height: 32px;\n",
              "      padding: 0 0 0 0;\n",
              "      width: 32px;\n",
              "    }\n",
              "\n",
              "    .colab-df-convert:hover {\n",
              "      background-color: #E2EBFA;\n",
              "      box-shadow: 0px 1px 2px rgba(60, 64, 67, 0.3), 0px 1px 3px 1px rgba(60, 64, 67, 0.15);\n",
              "      fill: #174EA6;\n",
              "    }\n",
              "\n",
              "    [theme=dark] .colab-df-convert {\n",
              "      background-color: #3B4455;\n",
              "      fill: #D2E3FC;\n",
              "    }\n",
              "\n",
              "    [theme=dark] .colab-df-convert:hover {\n",
              "      background-color: #434B5C;\n",
              "      box-shadow: 0px 1px 3px 1px rgba(0, 0, 0, 0.15);\n",
              "      filter: drop-shadow(0px 1px 2px rgba(0, 0, 0, 0.3));\n",
              "      fill: #FFFFFF;\n",
              "    }\n",
              "  </style>\n",
              "\n",
              "      <script>\n",
              "        const buttonEl =\n",
              "          document.querySelector('#df-6bb87e86-fd61-4f41-b0b8-0b6a1178a427 button.colab-df-convert');\n",
              "        buttonEl.style.display =\n",
              "          google.colab.kernel.accessAllowed ? 'block' : 'none';\n",
              "\n",
              "        async function convertToInteractive(key) {\n",
              "          const element = document.querySelector('#df-6bb87e86-fd61-4f41-b0b8-0b6a1178a427');\n",
              "          const dataTable =\n",
              "            await google.colab.kernel.invokeFunction('convertToInteractive',\n",
              "                                                     [key], {});\n",
              "          if (!dataTable) return;\n",
              "\n",
              "          const docLinkHtml = 'Like what you see? Visit the ' +\n",
              "            '<a target=\"_blank\" href=https://colab.research.google.com/notebooks/data_table.ipynb>data table notebook</a>'\n",
              "            + ' to learn more about interactive tables.';\n",
              "          element.innerHTML = '';\n",
              "          dataTable['output_type'] = 'display_data';\n",
              "          await google.colab.output.renderOutput(dataTable, element);\n",
              "          const docLink = document.createElement('div');\n",
              "          docLink.innerHTML = docLinkHtml;\n",
              "          element.appendChild(docLink);\n",
              "        }\n",
              "      </script>\n",
              "    </div>\n",
              "  </div>\n",
              "  "
            ]
          },
          "metadata": {},
          "execution_count": 5
        }
      ],
      "source": [
        "# Show the last 5 rows of the dataframe\n",
        "df.tail()"
      ]
    },
    {
      "cell_type": "markdown",
      "metadata": {
        "id": "H9QeyFqshVZ1"
      },
      "source": [
        "We can see that our data contains 1762 rows and 7 columns."
      ]
    },
    {
      "cell_type": "markdown",
      "metadata": {
        "id": "GXiyVR69hVZ3"
      },
      "source": [
        "<font color=\"blue\" size=\"5\">Data description and understanding"
      ]
    },
    {
      "cell_type": "code",
      "execution_count": null,
      "metadata": {
        "colab": {
          "base_uri": "https://localhost:8080/"
        },
        "id": "2w0AnFYhhVZ4",
        "outputId": "9f2cbbf4-9264-4907-854f-f2d74e916874"
      },
      "outputs": [
        {
          "output_type": "stream",
          "name": "stdout",
          "text": [
            "<class 'pandas.core.frame.DataFrame'>\n",
            "RangeIndex: 1763 entries, 0 to 1762\n",
            "Data columns (total 7 columns):\n",
            " #   Column          Non-Null Count  Dtype  \n",
            "---  ------          --------------  -----  \n",
            " 0   Date            1763 non-null   object \n",
            " 1   Low             1763 non-null   float64\n",
            " 2   Open            1763 non-null   float64\n",
            " 3   Volume          1763 non-null   int64  \n",
            " 4   High            1763 non-null   float64\n",
            " 5   Close           1763 non-null   float64\n",
            " 6   Adjusted Close  1763 non-null   float64\n",
            "dtypes: float64(5), int64(1), object(1)\n",
            "memory usage: 96.5+ KB\n"
          ]
        }
      ],
      "source": [
        "# General info\n",
        "df.info()"
      ]
    },
    {
      "cell_type": "code",
      "execution_count": null,
      "metadata": {
        "colab": {
          "base_uri": "https://localhost:8080/",
          "height": 300
        },
        "id": "kpFEkkdUhVZ5",
        "outputId": "cc097b99-f0b2-4da3-bef4-e1bff01a9634"
      },
      "outputs": [
        {
          "output_type": "execute_result",
          "data": {
            "text/plain": [
              "               Low         Open        Volume         High        Close  \\\n",
              "count  1763.000000  1763.000000  1.763000e+03  1763.000000  1763.000000   \n",
              "mean    300.563710   305.517742  9.186145e+06   310.135076   305.476755   \n",
              "std     159.373318   161.686713  7.705039e+06   163.740514   161.531919   \n",
              "min      79.949997    80.570000  1.144000e+06    84.699997    82.790001   \n",
              "25%     144.339996   146.160004  4.669150e+06   147.224998   145.665001   \n",
              "50%     305.730011   311.440002  6.960200e+06   317.000000   312.869995   \n",
              "75%     411.790009   419.044998  1.121120e+07   426.910004   419.665009   \n",
              "max     686.090027   692.349976  1.333875e+08   700.989990   691.690002   \n",
              "\n",
              "       Adjusted Close  \n",
              "count     1763.000000  \n",
              "mean       305.476755  \n",
              "std        161.531919  \n",
              "min         82.790001  \n",
              "25%        145.665001  \n",
              "50%        312.869995  \n",
              "75%        419.665009  \n",
              "max        691.690002  "
            ],
            "text/html": [
              "\n",
              "  <div id=\"df-696b3967-f2a6-4a47-9182-231cb0e26fba\">\n",
              "    <div class=\"colab-df-container\">\n",
              "      <div>\n",
              "<style scoped>\n",
              "    .dataframe tbody tr th:only-of-type {\n",
              "        vertical-align: middle;\n",
              "    }\n",
              "\n",
              "    .dataframe tbody tr th {\n",
              "        vertical-align: top;\n",
              "    }\n",
              "\n",
              "    .dataframe thead th {\n",
              "        text-align: right;\n",
              "    }\n",
              "</style>\n",
              "<table border=\"1\" class=\"dataframe\">\n",
              "  <thead>\n",
              "    <tr style=\"text-align: right;\">\n",
              "      <th></th>\n",
              "      <th>Low</th>\n",
              "      <th>Open</th>\n",
              "      <th>Volume</th>\n",
              "      <th>High</th>\n",
              "      <th>Close</th>\n",
              "      <th>Adjusted Close</th>\n",
              "    </tr>\n",
              "  </thead>\n",
              "  <tbody>\n",
              "    <tr>\n",
              "      <th>count</th>\n",
              "      <td>1763.000000</td>\n",
              "      <td>1763.000000</td>\n",
              "      <td>1.763000e+03</td>\n",
              "      <td>1763.000000</td>\n",
              "      <td>1763.000000</td>\n",
              "      <td>1763.000000</td>\n",
              "    </tr>\n",
              "    <tr>\n",
              "      <th>mean</th>\n",
              "      <td>300.563710</td>\n",
              "      <td>305.517742</td>\n",
              "      <td>9.186145e+06</td>\n",
              "      <td>310.135076</td>\n",
              "      <td>305.476755</td>\n",
              "      <td>305.476755</td>\n",
              "    </tr>\n",
              "    <tr>\n",
              "      <th>std</th>\n",
              "      <td>159.373318</td>\n",
              "      <td>161.686713</td>\n",
              "      <td>7.705039e+06</td>\n",
              "      <td>163.740514</td>\n",
              "      <td>161.531919</td>\n",
              "      <td>161.531919</td>\n",
              "    </tr>\n",
              "    <tr>\n",
              "      <th>min</th>\n",
              "      <td>79.949997</td>\n",
              "      <td>80.570000</td>\n",
              "      <td>1.144000e+06</td>\n",
              "      <td>84.699997</td>\n",
              "      <td>82.790001</td>\n",
              "      <td>82.790001</td>\n",
              "    </tr>\n",
              "    <tr>\n",
              "      <th>25%</th>\n",
              "      <td>144.339996</td>\n",
              "      <td>146.160004</td>\n",
              "      <td>4.669150e+06</td>\n",
              "      <td>147.224998</td>\n",
              "      <td>145.665001</td>\n",
              "      <td>145.665001</td>\n",
              "    </tr>\n",
              "    <tr>\n",
              "      <th>50%</th>\n",
              "      <td>305.730011</td>\n",
              "      <td>311.440002</td>\n",
              "      <td>6.960200e+06</td>\n",
              "      <td>317.000000</td>\n",
              "      <td>312.869995</td>\n",
              "      <td>312.869995</td>\n",
              "    </tr>\n",
              "    <tr>\n",
              "      <th>75%</th>\n",
              "      <td>411.790009</td>\n",
              "      <td>419.044998</td>\n",
              "      <td>1.121120e+07</td>\n",
              "      <td>426.910004</td>\n",
              "      <td>419.665009</td>\n",
              "      <td>419.665009</td>\n",
              "    </tr>\n",
              "    <tr>\n",
              "      <th>max</th>\n",
              "      <td>686.090027</td>\n",
              "      <td>692.349976</td>\n",
              "      <td>1.333875e+08</td>\n",
              "      <td>700.989990</td>\n",
              "      <td>691.690002</td>\n",
              "      <td>691.690002</td>\n",
              "    </tr>\n",
              "  </tbody>\n",
              "</table>\n",
              "</div>\n",
              "      <button class=\"colab-df-convert\" onclick=\"convertToInteractive('df-696b3967-f2a6-4a47-9182-231cb0e26fba')\"\n",
              "              title=\"Convert this dataframe to an interactive table.\"\n",
              "              style=\"display:none;\">\n",
              "        \n",
              "  <svg xmlns=\"http://www.w3.org/2000/svg\" height=\"24px\"viewBox=\"0 0 24 24\"\n",
              "       width=\"24px\">\n",
              "    <path d=\"M0 0h24v24H0V0z\" fill=\"none\"/>\n",
              "    <path d=\"M18.56 5.44l.94 2.06.94-2.06 2.06-.94-2.06-.94-.94-2.06-.94 2.06-2.06.94zm-11 1L8.5 8.5l.94-2.06 2.06-.94-2.06-.94L8.5 2.5l-.94 2.06-2.06.94zm10 10l.94 2.06.94-2.06 2.06-.94-2.06-.94-.94-2.06-.94 2.06-2.06.94z\"/><path d=\"M17.41 7.96l-1.37-1.37c-.4-.4-.92-.59-1.43-.59-.52 0-1.04.2-1.43.59L10.3 9.45l-7.72 7.72c-.78.78-.78 2.05 0 2.83L4 21.41c.39.39.9.59 1.41.59.51 0 1.02-.2 1.41-.59l7.78-7.78 2.81-2.81c.8-.78.8-2.07 0-2.86zM5.41 20L4 18.59l7.72-7.72 1.47 1.35L5.41 20z\"/>\n",
              "  </svg>\n",
              "      </button>\n",
              "      \n",
              "  <style>\n",
              "    .colab-df-container {\n",
              "      display:flex;\n",
              "      flex-wrap:wrap;\n",
              "      gap: 12px;\n",
              "    }\n",
              "\n",
              "    .colab-df-convert {\n",
              "      background-color: #E8F0FE;\n",
              "      border: none;\n",
              "      border-radius: 50%;\n",
              "      cursor: pointer;\n",
              "      display: none;\n",
              "      fill: #1967D2;\n",
              "      height: 32px;\n",
              "      padding: 0 0 0 0;\n",
              "      width: 32px;\n",
              "    }\n",
              "\n",
              "    .colab-df-convert:hover {\n",
              "      background-color: #E2EBFA;\n",
              "      box-shadow: 0px 1px 2px rgba(60, 64, 67, 0.3), 0px 1px 3px 1px rgba(60, 64, 67, 0.15);\n",
              "      fill: #174EA6;\n",
              "    }\n",
              "\n",
              "    [theme=dark] .colab-df-convert {\n",
              "      background-color: #3B4455;\n",
              "      fill: #D2E3FC;\n",
              "    }\n",
              "\n",
              "    [theme=dark] .colab-df-convert:hover {\n",
              "      background-color: #434B5C;\n",
              "      box-shadow: 0px 1px 3px 1px rgba(0, 0, 0, 0.15);\n",
              "      filter: drop-shadow(0px 1px 2px rgba(0, 0, 0, 0.3));\n",
              "      fill: #FFFFFF;\n",
              "    }\n",
              "  </style>\n",
              "\n",
              "      <script>\n",
              "        const buttonEl =\n",
              "          document.querySelector('#df-696b3967-f2a6-4a47-9182-231cb0e26fba button.colab-df-convert');\n",
              "        buttonEl.style.display =\n",
              "          google.colab.kernel.accessAllowed ? 'block' : 'none';\n",
              "\n",
              "        async function convertToInteractive(key) {\n",
              "          const element = document.querySelector('#df-696b3967-f2a6-4a47-9182-231cb0e26fba');\n",
              "          const dataTable =\n",
              "            await google.colab.kernel.invokeFunction('convertToInteractive',\n",
              "                                                     [key], {});\n",
              "          if (!dataTable) return;\n",
              "\n",
              "          const docLinkHtml = 'Like what you see? Visit the ' +\n",
              "            '<a target=\"_blank\" href=https://colab.research.google.com/notebooks/data_table.ipynb>data table notebook</a>'\n",
              "            + ' to learn more about interactive tables.';\n",
              "          element.innerHTML = '';\n",
              "          dataTable['output_type'] = 'display_data';\n",
              "          await google.colab.output.renderOutput(dataTable, element);\n",
              "          const docLink = document.createElement('div');\n",
              "          docLink.innerHTML = docLinkHtml;\n",
              "          element.appendChild(docLink);\n",
              "        }\n",
              "      </script>\n",
              "    </div>\n",
              "  </div>\n",
              "  "
            ]
          },
          "metadata": {},
          "execution_count": 7
        }
      ],
      "source": [
        "# summary statistics\n",
        "df.describe()"
      ]
    },
    {
      "cell_type": "code",
      "execution_count": null,
      "metadata": {
        "colab": {
          "base_uri": "https://localhost:8080/"
        },
        "id": "haSt6WijhVZ8",
        "outputId": "96997eb6-8a54-45f9-a6fa-6953dfc1adc0"
      },
      "outputs": [
        {
          "output_type": "execute_result",
          "data": {
            "text/plain": [
              "Date              0\n",
              "Low               0\n",
              "Open              0\n",
              "Volume            0\n",
              "High              0\n",
              "Close             0\n",
              "Adjusted Close    0\n",
              "dtype: int64"
            ]
          },
          "metadata": {},
          "execution_count": 8
        }
      ],
      "source": [
        "# check for missing values\n",
        "df.isnull().sum()"
      ]
    },
    {
      "cell_type": "markdown",
      "metadata": {
        "id": "vVFlOEd5hVZ8"
      },
      "source": [
        "There is no missing values in data."
      ]
    },
    {
      "cell_type": "code",
      "execution_count": null,
      "metadata": {
        "colab": {
          "base_uri": "https://localhost:8080/"
        },
        "id": "46Z-1_JnhVZ9",
        "outputId": "c06c5275-b149-4921-f1c7-aeac2d5b4e8e"
      },
      "outputs": [
        {
          "output_type": "execute_result",
          "data": {
            "text/plain": [
              "0"
            ]
          },
          "metadata": {},
          "execution_count": 9
        }
      ],
      "source": [
        "# check for duplicated values()\n",
        "df.duplicated().sum()"
      ]
    },
    {
      "cell_type": "markdown",
      "metadata": {
        "id": "S8bSnzEGhVZ9"
      },
      "source": [
        "<font color=\"blue\" size=\"5\">EDA"
      ]
    },
    {
      "cell_type": "code",
      "execution_count": null,
      "metadata": {
        "id": "LmmaCuzwhVZ-"
      },
      "outputs": [],
      "source": [
        "# Change Date column to index Date\n",
        "df.set_index(\"Date\" , inplace=True)"
      ]
    },
    {
      "cell_type": "markdown",
      "metadata": {
        "id": "l93hQ1zMQmxR"
      },
      "source": [
        "<font size=\"3\" color=\"darkgreen\">Netflix Stock Price Variation"
      ]
    },
    {
      "cell_type": "code",
      "source": [
        "# Plot the daily stock price variation\n",
        "fig, ax = plt.subplots(nrows=3, ncols=2, sharex=False, figsize=(14, 12))\n",
        "for i,ax in enumerate(fig.axes):\n",
        "    sns.lineplot(x=df.index , y=df.iloc[:,i] , ax=ax)\n",
        "    ax.tick_params(axis=\"x\", rotation=30, labelsize=10, length=0)\n",
        "    ax.xaxis.set_major_locator(plt.MaxNLocator(5))"
      ],
      "metadata": {
        "colab": {
          "base_uri": "https://localhost:8080/",
          "height": 738
        },
        "id": "JbZN7miWt3Gy",
        "outputId": "6dee802e-cfb1-4fbf-8226-8fdc4e67bf5e"
      },
      "execution_count": null,
      "outputs": [
        {
          "output_type": "display_data",
          "data": {
            "text/plain": [
              "<Figure size 1008x864 with 6 Axes>"
            ],
            "image/png": "[encoded data removed]"
          },
          "metadata": {
            "needs_background": "light"
          }
        }
      ]
    },
    {
      "cell_type": "code",
      "execution_count": null,
      "metadata": {
        "colab": {
          "base_uri": "https://localhost:8080/",
          "height": 237
        },
        "id": "tO3ZaEGXhVaA",
        "outputId": "b23039b2-4c9e-46a6-80f0-5370ec2aa5e3"
      },
      "outputs": [
        {
          "output_type": "execute_result",
          "data": {
            "text/plain": [
              "                   Low        Open    Volume        High       Close  \\\n",
              "Date                                                                   \n",
              "16-07-2015  107.680000  111.019997  63461000  116.489998  115.809998   \n",
              "17-07-2015  114.239998  117.339996  25136900  117.879997  114.769997   \n",
              "20-07-2015  110.139999  114.699997  22676900  114.699997  110.550003   \n",
              "21-07-2015  109.320000  110.209999  14085400  113.709999  112.510002   \n",
              "22-07-2015  110.559998  112.139999  10500500  113.879997  111.500000   \n",
              "\n",
              "            Adjusted Close  per_change  \n",
              "Date                                    \n",
              "16-07-2015      115.809998         NaN  \n",
              "17-07-2015      114.769997   -0.008980  \n",
              "20-07-2015      110.550003   -0.036769  \n",
              "21-07-2015      112.510002    0.017730  \n",
              "22-07-2015      111.500000   -0.008977  "
            ],
            "text/html": [
              "\n",
              "  <div id=\"df-4424761d-0865-46ed-ae4e-2ad1241e4715\">\n",
              "    <div class=\"colab-df-container\">\n",
              "      <div>\n",
              "<style scoped>\n",
              "    .dataframe tbody tr th:only-of-type {\n",
              "        vertical-align: middle;\n",
              "    }\n",
              "\n",
              "    .dataframe tbody tr th {\n",
              "        vertical-align: top;\n",
              "    }\n",
              "\n",
              "    .dataframe thead th {\n",
              "        text-align: right;\n",
              "    }\n",
              "</style>\n",
              "<table border=\"1\" class=\"dataframe\">\n",
              "  <thead>\n",
              "    <tr style=\"text-align: right;\">\n",
              "      <th></th>\n",
              "      <th>Low</th>\n",
              "      <th>Open</th>\n",
              "      <th>Volume</th>\n",
              "      <th>High</th>\n",
              "      <th>Close</th>\n",
              "      <th>Adjusted Close</th>\n",
              "      <th>per_change</th>\n",
              "    </tr>\n",
              "    <tr>\n",
              "      <th>Date</th>\n",
              "      <th></th>\n",
              "      <th></th>\n",
              "      <th></th>\n",
              "      <th></th>\n",
              "      <th></th>\n",
              "      <th></th>\n",
              "      <th></th>\n",
              "    </tr>\n",
              "  </thead>\n",
              "  <tbody>\n",
              "    <tr>\n",
              "      <th>16-07-2015</th>\n",
              "      <td>107.680000</td>\n",
              "      <td>111.019997</td>\n",
              "      <td>63461000</td>\n",
              "      <td>116.489998</td>\n",
              "      <td>115.809998</td>\n",
              "      <td>115.809998</td>\n",
              "      <td>NaN</td>\n",
              "    </tr>\n",
              "    <tr>\n",
              "      <th>17-07-2015</th>\n",
              "      <td>114.239998</td>\n",
              "      <td>117.339996</td>\n",
              "      <td>25136900</td>\n",
              "      <td>117.879997</td>\n",
              "      <td>114.769997</td>\n",
              "      <td>114.769997</td>\n",
              "      <td>-0.008980</td>\n",
              "    </tr>\n",
              "    <tr>\n",
              "      <th>20-07-2015</th>\n",
              "      <td>110.139999</td>\n",
              "      <td>114.699997</td>\n",
              "      <td>22676900</td>\n",
              "      <td>114.699997</td>\n",
              "      <td>110.550003</td>\n",
              "      <td>110.550003</td>\n",
              "      <td>-0.036769</td>\n",
              "    </tr>\n",
              "    <tr>\n",
              "      <th>21-07-2015</th>\n",
              "      <td>109.320000</td>\n",
              "      <td>110.209999</td>\n",
              "      <td>14085400</td>\n",
              "      <td>113.709999</td>\n",
              "      <td>112.510002</td>\n",
              "      <td>112.510002</td>\n",
              "      <td>0.017730</td>\n",
              "    </tr>\n",
              "    <tr>\n",
              "      <th>22-07-2015</th>\n",
              "      <td>110.559998</td>\n",
              "      <td>112.139999</td>\n",
              "      <td>10500500</td>\n",
              "      <td>113.879997</td>\n",
              "      <td>111.500000</td>\n",
              "      <td>111.500000</td>\n",
              "      <td>-0.008977</td>\n",
              "    </tr>\n",
              "  </tbody>\n",
              "</table>\n",
              "</div>\n",
              "      <button class=\"colab-df-convert\" onclick=\"convertToInteractive('df-4424761d-0865-46ed-ae4e-2ad1241e4715')\"\n",
              "              title=\"Convert this dataframe to an interactive table.\"\n",
              "              style=\"display:none;\">\n",
              "        \n",
              "  <svg xmlns=\"http://www.w3.org/2000/svg\" height=\"24px\"viewBox=\"0 0 24 24\"\n",
              "       width=\"24px\">\n",
              "    <path d=\"M0 0h24v24H0V0z\" fill=\"none\"/>\n",
              "    <path d=\"M18.56 5.44l.94 2.06.94-2.06 2.06-.94-2.06-.94-.94-2.06-.94 2.06-2.06.94zm-11 1L8.5 8.5l.94-2.06 2.06-.94-2.06-.94L8.5 2.5l-.94 2.06-2.06.94zm10 10l.94 2.06.94-2.06 2.06-.94-2.06-.94-.94-2.06-.94 2.06-2.06.94z\"/><path d=\"M17.41 7.96l-1.37-1.37c-.4-.4-.92-.59-1.43-.59-.52 0-1.04.2-1.43.59L10.3 9.45l-7.72 7.72c-.78.78-.78 2.05 0 2.83L4 21.41c.39.39.9.59 1.41.59.51 0 1.02-.2 1.41-.59l7.78-7.78 2.81-2.81c.8-.78.8-2.07 0-2.86zM5.41 20L4 18.59l7.72-7.72 1.47 1.35L5.41 20z\"/>\n",
              "  </svg>\n",
              "      </button>\n",
              "      \n",
              "  <style>\n",
              "    .colab-df-container {\n",
              "      display:flex;\n",
              "      flex-wrap:wrap;\n",
              "      gap: 12px;\n",
              "    }\n",
              "\n",
              "    .colab-df-convert {\n",
              "      background-color: #E8F0FE;\n",
              "      border: none;\n",
              "      border-radius: 50%;\n",
              "      cursor: pointer;\n",
              "      display: none;\n",
              "      fill: #1967D2;\n",
              "      height: 32px;\n",
              "      padding: 0 0 0 0;\n",
              "      width: 32px;\n",
              "    }\n",
              "\n",
              "    .colab-df-convert:hover {\n",
              "      background-color: #E2EBFA;\n",
              "      box-shadow: 0px 1px 2px rgba(60, 64, 67, 0.3), 0px 1px 3px 1px rgba(60, 64, 67, 0.15);\n",
              "      fill: #174EA6;\n",
              "    }\n",
              "\n",
              "    [theme=dark] .colab-df-convert {\n",
              "      background-color: #3B4455;\n",
              "      fill: #D2E3FC;\n",
              "    }\n",
              "\n",
              "    [theme=dark] .colab-df-convert:hover {\n",
              "      background-color: #434B5C;\n",
              "      box-shadow: 0px 1px 3px 1px rgba(0, 0, 0, 0.15);\n",
              "      filter: drop-shadow(0px 1px 2px rgba(0, 0, 0, 0.3));\n",
              "      fill: #FFFFFF;\n",
              "    }\n",
              "  </style>\n",
              "\n",
              "      <script>\n",
              "        const buttonEl =\n",
              "          document.querySelector('#df-4424761d-0865-46ed-ae4e-2ad1241e4715 button.colab-df-convert');\n",
              "        buttonEl.style.display =\n",
              "          google.colab.kernel.accessAllowed ? 'block' : 'none';\n",
              "\n",
              "        async function convertToInteractive(key) {\n",
              "          const element = document.querySelector('#df-4424761d-0865-46ed-ae4e-2ad1241e4715');\n",
              "          const dataTable =\n",
              "            await google.colab.kernel.invokeFunction('convertToInteractive',\n",
              "                                                     [key], {});\n",
              "          if (!dataTable) return;\n",
              "\n",
              "          const docLinkHtml = 'Like what you see? Visit the ' +\n",
              "            '<a target=\"_blank\" href=https://colab.research.google.com/notebooks/data_table.ipynb>data table notebook</a>'\n",
              "            + ' to learn more about interactive tables.';\n",
              "          element.innerHTML = '';\n",
              "          dataTable['output_type'] = 'display_data';\n",
              "          await google.colab.output.renderOutput(dataTable, element);\n",
              "          const docLink = document.createElement('div');\n",
              "          docLink.innerHTML = docLinkHtml;\n",
              "          element.appendChild(docLink);\n",
              "        }\n",
              "      </script>\n",
              "    </div>\n",
              "  </div>\n",
              "  "
            ]
          },
          "metadata": {},
          "execution_count": 12
        }
      ],
      "source": [
        "# Add \"per_change\" column\n",
        "# Daily_returns is the percentage change between the current day's close stock price and the previous \n",
        "# day's close stock price.\n",
        "df['per_change'] = df['Adjusted Close'].pct_change()\n",
        "df.head()"
      ]
    },
    {
      "cell_type": "code",
      "execution_count": null,
      "metadata": {
        "colab": {
          "base_uri": "https://localhost:8080/",
          "height": 374
        },
        "id": "l5xiva26hVaA",
        "outputId": "608f784e-afb3-4061-affc-2627bdf6d987"
      },
      "outputs": [
        {
          "output_type": "display_data",
          "data": {
            "text/plain": [
              "<Figure size 1080x360 with 1 Axes>"
            ],
            "image/png": "[encoded data removed]"
          },
          "metadata": {
            "needs_background": "light"
          }
        }
      ],
      "source": [
        "# plot Netflix Stock price daily change\n",
        "plt.figure(figsize=(15,5))\n",
        "plt.title(\"Netflix Stock price daily change\")\n",
        "ax = sns.lineplot(x=df.index , y=df[\"per_change\"])\n",
        "ax.tick_params(axis=\"x\", rotation=30, labelsize=10, length=0)\n",
        "ax.xaxis.set_major_locator(plt.MaxNLocator(5))\n",
        "\n",
        "plt.ylabel('Change(%)')\n",
        "plt.show()"
      ]
    },
    {
      "cell_type": "markdown",
      "metadata": {
        "id": "I93mkKOThVaB"
      },
      "source": [
        "<font color=\"darkgreen\" size=\"3\">Best Day Stock price change"
      ]
    },
    {
      "cell_type": "code",
      "execution_count": null,
      "metadata": {
        "colab": {
          "base_uri": "https://localhost:8080/"
        },
        "id": "FXSfBkZlhVaB",
        "outputId": "8d478c54-a086-410a-97f4-ff0d211261a9"
      },
      "outputs": [
        {
          "output_type": "execute_result",
          "data": {
            "text/plain": [
              "Date\n",
              "18-10-2016    0.190281\n",
              "Name: per_change, dtype: float64"
            ]
          },
          "metadata": {},
          "execution_count": 14
        }
      ],
      "source": [
        "df[df[\"per_change\"]==df[\"per_change\"].max()].per_change"
      ]
    },
    {
      "cell_type": "markdown",
      "metadata": {
        "id": "TVeF0u2PhVaB"
      },
      "source": [
        "The 18'th of October 2016 was the best day with the highest change in stock price from 2015 to 2022."
      ]
    },
    {
      "cell_type": "markdown",
      "metadata": {
        "id": "NnnzTN60hVaB"
      },
      "source": [
        "<font color=\"darkgreen\" size=\"3\">Worst Day Stock price change"
      ]
    },
    {
      "cell_type": "code",
      "execution_count": null,
      "metadata": {
        "colab": {
          "base_uri": "https://localhost:8080/"
        },
        "id": "INKptfwHhVaC",
        "outputId": "c8564a5b-ec25-4d88-b54a-6268cf466968"
      },
      "outputs": [
        {
          "output_type": "execute_result",
          "data": {
            "text/plain": [
              "Date\n",
              "20-04-2022   -0.351166\n",
              "Name: per_change, dtype: float64"
            ]
          },
          "metadata": {},
          "execution_count": 15
        }
      ],
      "source": [
        "df[df[\"per_change\"]==df[\"per_change\"].min()].per_change"
      ]
    },
    {
      "cell_type": "markdown",
      "metadata": {
        "id": "GDDIoJa6hVaC"
      },
      "source": [
        "The 20'th of April 2022 was the worst day for Netflix regrading the change in stock price."
      ]
    },
    {
      "cell_type": "markdown",
      "metadata": {
        "id": "JIIE03J_hVZ_"
      },
      "source": [
        "<font color=\"darkgreen\" size=\"3\">Top 5 dates with highest stock price"
      ]
    },
    {
      "cell_type": "code",
      "execution_count": null,
      "metadata": {
        "colab": {
          "base_uri": "https://localhost:8080/"
        },
        "id": "0yuBsbAThVZ_",
        "outputId": "28590115-e74c-4de1-a5e9-2a48fa85d891"
      },
      "outputs": [
        {
          "output_type": "execute_result",
          "data": {
            "text/plain": [
              "Date\n",
              "17-11-2021    700.989990\n",
              "19-11-2021    694.159973\n",
              "18-11-2021    691.739990\n",
              "29-10-2021    690.969971\n",
              "01-11-2021    689.969971\n",
              "Name: High, dtype: float64"
            ]
          },
          "metadata": {},
          "execution_count": 16
        }
      ],
      "source": [
        "df.sort_values(\"High\",ascending=False).head().High"
      ]
    },
    {
      "cell_type": "markdown",
      "metadata": {
        "id": "E9-ruJpmhVZ_"
      },
      "source": [
        "<font color=\"darkgreen\" size=\"3\">Top 5 dates with lowest stock price"
      ]
    },
    {
      "cell_type": "code",
      "execution_count": null,
      "metadata": {
        "colab": {
          "base_uri": "https://localhost:8080/"
        },
        "id": "cVziq--lhVaA",
        "outputId": "f7f840fa-b5aa-473d-9a32-83fd639fb5be"
      },
      "outputs": [
        {
          "output_type": "execute_result",
          "data": {
            "text/plain": [
              "Date\n",
              "08-02-2016    79.949997\n",
              "09-02-2016    81.550003\n",
              "05-02-2016    81.860001\n",
              "11-02-2016    82.910004\n",
              "19-07-2016    84.500000\n",
              "Name: Low, dtype: float64"
            ]
          },
          "metadata": {},
          "execution_count": 17
        }
      ],
      "source": [
        "df.sort_values(\"Low\").head().Low"
      ]
    },
    {
      "cell_type": "markdown",
      "metadata": {
        "id": "63WKLhrOhVaC"
      },
      "source": [
        "<font color=\"blue\" size=\"5\">Feature selection and Splitting the data into train and test sets"
      ]
    },
    {
      "cell_type": "code",
      "execution_count": null,
      "metadata": {
        "colab": {
          "base_uri": "https://localhost:8080/",
          "height": 237
        },
        "id": "IObwPaUJhVaD",
        "outputId": "1263159a-3fca-4221-f30b-15f071d59118"
      },
      "outputs": [
        {
          "output_type": "execute_result",
          "data": {
            "text/plain": [
              "                 Close\n",
              "Date                  \n",
              "16-07-2015  115.809998\n",
              "17-07-2015  114.769997\n",
              "20-07-2015  110.550003\n",
              "21-07-2015  112.510002\n",
              "22-07-2015  111.500000"
            ],
            "text/html": [
              "\n",
              "  <div id=\"df-98d29b85-c01f-4e18-ba42-5390cedadc19\">\n",
              "    <div class=\"colab-df-container\">\n",
              "      <div>\n",
              "<style scoped>\n",
              "    .dataframe tbody tr th:only-of-type {\n",
              "        vertical-align: middle;\n",
              "    }\n",
              "\n",
              "    .dataframe tbody tr th {\n",
              "        vertical-align: top;\n",
              "    }\n",
              "\n",
              "    .dataframe thead th {\n",
              "        text-align: right;\n",
              "    }\n",
              "</style>\n",
              "<table border=\"1\" class=\"dataframe\">\n",
              "  <thead>\n",
              "    <tr style=\"text-align: right;\">\n",
              "      <th></th>\n",
              "      <th>Close</th>\n",
              "    </tr>\n",
              "    <tr>\n",
              "      <th>Date</th>\n",
              "      <th></th>\n",
              "    </tr>\n",
              "  </thead>\n",
              "  <tbody>\n",
              "    <tr>\n",
              "      <th>16-07-2015</th>\n",
              "      <td>115.809998</td>\n",
              "    </tr>\n",
              "    <tr>\n",
              "      <th>17-07-2015</th>\n",
              "      <td>114.769997</td>\n",
              "    </tr>\n",
              "    <tr>\n",
              "      <th>20-07-2015</th>\n",
              "      <td>110.550003</td>\n",
              "    </tr>\n",
              "    <tr>\n",
              "      <th>21-07-2015</th>\n",
              "      <td>112.510002</td>\n",
              "    </tr>\n",
              "    <tr>\n",
              "      <th>22-07-2015</th>\n",
              "      <td>111.500000</td>\n",
              "    </tr>\n",
              "  </tbody>\n",
              "</table>\n",
              "</div>\n",
              "      <button class=\"colab-df-convert\" onclick=\"convertToInteractive('df-98d29b85-c01f-4e18-ba42-5390cedadc19')\"\n",
              "              title=\"Convert this dataframe to an interactive table.\"\n",
              "              style=\"display:none;\">\n",
              "        \n",
              "  <svg xmlns=\"http://www.w3.org/2000/svg\" height=\"24px\"viewBox=\"0 0 24 24\"\n",
              "       width=\"24px\">\n",
              "    <path d=\"M0 0h24v24H0V0z\" fill=\"none\"/>\n",
              "    <path d=\"M18.56 5.44l.94 2.06.94-2.06 2.06-.94-2.06-.94-.94-2.06-.94 2.06-2.06.94zm-11 1L8.5 8.5l.94-2.06 2.06-.94-2.06-.94L8.5 2.5l-.94 2.06-2.06.94zm10 10l.94 2.06.94-2.06 2.06-.94-2.06-.94-.94-2.06-.94 2.06-2.06.94z\"/><path d=\"M17.41 7.96l-1.37-1.37c-.4-.4-.92-.59-1.43-.59-.52 0-1.04.2-1.43.59L10.3 9.45l-7.72 7.72c-.78.78-.78 2.05 0 2.83L4 21.41c.39.39.9.59 1.41.59.51 0 1.02-.2 1.41-.59l7.78-7.78 2.81-2.81c.8-.78.8-2.07 0-2.86zM5.41 20L4 18.59l7.72-7.72 1.47 1.35L5.41 20z\"/>\n",
              "  </svg>\n",
              "      </button>\n",
              "      \n",
              "  <style>\n",
              "    .colab-df-container {\n",
              "      display:flex;\n",
              "      flex-wrap:wrap;\n",
              "      gap: 12px;\n",
              "    }\n",
              "\n",
              "    .colab-df-convert {\n",
              "      background-color: #E8F0FE;\n",
              "      border: none;\n",
              "      border-radius: 50%;\n",
              "      cursor: pointer;\n",
              "      display: none;\n",
              "      fill: #1967D2;\n",
              "      height: 32px;\n",
              "      padding: 0 0 0 0;\n",
              "      width: 32px;\n",
              "    }\n",
              "\n",
              "    .colab-df-convert:hover {\n",
              "      background-color: #E2EBFA;\n",
              "      box-shadow: 0px 1px 2px rgba(60, 64, 67, 0.3), 0px 1px 3px 1px rgba(60, 64, 67, 0.15);\n",
              "      fill: #174EA6;\n",
              "    }\n",
              "\n",
              "    [theme=dark] .colab-df-convert {\n",
              "      background-color: #3B4455;\n",
              "      fill: #D2E3FC;\n",
              "    }\n",
              "\n",
              "    [theme=dark] .colab-df-convert:hover {\n",
              "      background-color: #434B5C;\n",
              "      box-shadow: 0px 1px 3px 1px rgba(0, 0, 0, 0.15);\n",
              "      filter: drop-shadow(0px 1px 2px rgba(0, 0, 0, 0.3));\n",
              "      fill: #FFFFFF;\n",
              "    }\n",
              "  </style>\n",
              "\n",
              "      <script>\n",
              "        const buttonEl =\n",
              "          document.querySelector('#df-98d29b85-c01f-4e18-ba42-5390cedadc19 button.colab-df-convert');\n",
              "        buttonEl.style.display =\n",
              "          google.colab.kernel.accessAllowed ? 'block' : 'none';\n",
              "\n",
              "        async function convertToInteractive(key) {\n",
              "          const element = document.querySelector('#df-98d29b85-c01f-4e18-ba42-5390cedadc19');\n",
              "          const dataTable =\n",
              "            await google.colab.kernel.invokeFunction('convertToInteractive',\n",
              "                                                     [key], {});\n",
              "          if (!dataTable) return;\n",
              "\n",
              "          const docLinkHtml = 'Like what you see? Visit the ' +\n",
              "            '<a target=\"_blank\" href=https://colab.research.google.com/notebooks/data_table.ipynb>data table notebook</a>'\n",
              "            + ' to learn more about interactive tables.';\n",
              "          element.innerHTML = '';\n",
              "          dataTable['output_type'] = 'display_data';\n",
              "          await google.colab.output.renderOutput(dataTable, element);\n",
              "          const docLink = document.createElement('div');\n",
              "          docLink.innerHTML = docLinkHtml;\n",
              "          element.appendChild(docLink);\n",
              "        }\n",
              "      </script>\n",
              "    </div>\n",
              "  </div>\n",
              "  "
            ]
          },
          "metadata": {},
          "execution_count": 18
        }
      ],
      "source": [
        "# Select column 'Close' from the data\n",
        "df = pd.DataFrame(df.iloc[:,4:5],columns=['Close'])\n",
        "df.head()"
      ]
    },
    {
      "cell_type": "code",
      "execution_count": null,
      "metadata": {
        "id": "pAK0Xak_hVaD"
      },
      "outputs": [],
      "source": [
        "# split data into train and test dataframes\n",
        "lim = int(len(df)*0.85)\n",
        "train_df = df.iloc[:lim]\n",
        "test_df = df.iloc[lim:]"
      ]
    },
    {
      "cell_type": "code",
      "execution_count": null,
      "metadata": {
        "colab": {
          "base_uri": "https://localhost:8080/",
          "height": 455
        },
        "id": "yZmKCWwphVaE",
        "outputId": "1d01de35-9852-42dc-959b-bd48ae98abe8"
      },
      "outputs": [
        {
          "output_type": "execute_result",
          "data": {
            "text/plain": [
              "                 Close\n",
              "Date                  \n",
              "28-06-2021  533.030029\n",
              "29-06-2021  533.500000\n",
              "30-06-2021  528.210022\n",
              "01-07-2021  533.539978\n",
              "02-07-2021  533.979980\n",
              "...                ...\n",
              "11-07-2022  177.339996\n",
              "12-07-2022  174.449997\n",
              "13-07-2022  176.559998\n",
              "14-07-2022  174.779999\n",
              "15-07-2022  189.110001\n",
              "\n",
              "[265 rows x 1 columns]"
            ],
            "text/html": [
              "\n",
              "  <div id=\"df-b58d5c48-ce14-4cbe-8557-c104bbed3439\">\n",
              "    <div class=\"colab-df-container\">\n",
              "      <div>\n",
              "<style scoped>\n",
              "    .dataframe tbody tr th:only-of-type {\n",
              "        vertical-align: middle;\n",
              "    }\n",
              "\n",
              "    .dataframe tbody tr th {\n",
              "        vertical-align: top;\n",
              "    }\n",
              "\n",
              "    .dataframe thead th {\n",
              "        text-align: right;\n",
              "    }\n",
              "</style>\n",
              "<table border=\"1\" class=\"dataframe\">\n",
              "  <thead>\n",
              "    <tr style=\"text-align: right;\">\n",
              "      <th></th>\n",
              "      <th>Close</th>\n",
              "    </tr>\n",
              "    <tr>\n",
              "      <th>Date</th>\n",
              "      <th></th>\n",
              "    </tr>\n",
              "  </thead>\n",
              "  <tbody>\n",
              "    <tr>\n",
              "      <th>28-06-2021</th>\n",
              "      <td>533.030029</td>\n",
              "    </tr>\n",
              "    <tr>\n",
              "      <th>29-06-2021</th>\n",
              "      <td>533.500000</td>\n",
              "    </tr>\n",
              "    <tr>\n",
              "      <th>30-06-2021</th>\n",
              "      <td>528.210022</td>\n",
              "    </tr>\n",
              "    <tr>\n",
              "      <th>01-07-2021</th>\n",
              "      <td>533.539978</td>\n",
              "    </tr>\n",
              "    <tr>\n",
              "      <th>02-07-2021</th>\n",
              "      <td>533.979980</td>\n",
              "    </tr>\n",
              "    <tr>\n",
              "      <th>...</th>\n",
              "      <td>...</td>\n",
              "    </tr>\n",
              "    <tr>\n",
              "      <th>11-07-2022</th>\n",
              "      <td>177.339996</td>\n",
              "    </tr>\n",
              "    <tr>\n",
              "      <th>12-07-2022</th>\n",
              "      <td>174.449997</td>\n",
              "    </tr>\n",
              "    <tr>\n",
              "      <th>13-07-2022</th>\n",
              "      <td>176.559998</td>\n",
              "    </tr>\n",
              "    <tr>\n",
              "      <th>14-07-2022</th>\n",
              "      <td>174.779999</td>\n",
              "    </tr>\n",
              "    <tr>\n",
              "      <th>15-07-2022</th>\n",
              "      <td>189.110001</td>\n",
              "    </tr>\n",
              "  </tbody>\n",
              "</table>\n",
              "<p>265 rows × 1 columns</p>\n",
              "</div>\n",
              "      <button class=\"colab-df-convert\" onclick=\"convertToInteractive('df-b58d5c48-ce14-4cbe-8557-c104bbed3439')\"\n",
              "              title=\"Convert this dataframe to an interactive table.\"\n",
              "              style=\"display:none;\">\n",
              "        \n",
              "  <svg xmlns=\"http://www.w3.org/2000/svg\" height=\"24px\"viewBox=\"0 0 24 24\"\n",
              "       width=\"24px\">\n",
              "    <path d=\"M0 0h24v24H0V0z\" fill=\"none\"/>\n",
              "    <path d=\"M18.56 5.44l.94 2.06.94-2.06 2.06-.94-2.06-.94-.94-2.06-.94 2.06-2.06.94zm-11 1L8.5 8.5l.94-2.06 2.06-.94-2.06-.94L8.5 2.5l-.94 2.06-2.06.94zm10 10l.94 2.06.94-2.06 2.06-.94-2.06-.94-.94-2.06-.94 2.06-2.06.94z\"/><path d=\"M17.41 7.96l-1.37-1.37c-.4-.4-.92-.59-1.43-.59-.52 0-1.04.2-1.43.59L10.3 9.45l-7.72 7.72c-.78.78-.78 2.05 0 2.83L4 21.41c.39.39.9.59 1.41.59.51 0 1.02-.2 1.41-.59l7.78-7.78 2.81-2.81c.8-.78.8-2.07 0-2.86zM5.41 20L4 18.59l7.72-7.72 1.47 1.35L5.41 20z\"/>\n",
              "  </svg>\n",
              "      </button>\n",
              "      \n",
              "  <style>\n",
              "    .colab-df-container {\n",
              "      display:flex;\n",
              "      flex-wrap:wrap;\n",
              "      gap: 12px;\n",
              "    }\n",
              "\n",
              "    .colab-df-convert {\n",
              "      background-color: #E8F0FE;\n",
              "      border: none;\n",
              "      border-radius: 50%;\n",
              "      cursor: pointer;\n",
              "      display: none;\n",
              "      fill: #1967D2;\n",
              "      height: 32px;\n",
              "      padding: 0 0 0 0;\n",
              "      width: 32px;\n",
              "    }\n",
              "\n",
              "    .colab-df-convert:hover {\n",
              "      background-color: #E2EBFA;\n",
              "      box-shadow: 0px 1px 2px rgba(60, 64, 67, 0.3), 0px 1px 3px 1px rgba(60, 64, 67, 0.15);\n",
              "      fill: #174EA6;\n",
              "    }\n",
              "\n",
              "    [theme=dark] .colab-df-convert {\n",
              "      background-color: #3B4455;\n",
              "      fill: #D2E3FC;\n",
              "    }\n",
              "\n",
              "    [theme=dark] .colab-df-convert:hover {\n",
              "      background-color: #434B5C;\n",
              "      box-shadow: 0px 1px 3px 1px rgba(0, 0, 0, 0.15);\n",
              "      filter: drop-shadow(0px 1px 2px rgba(0, 0, 0, 0.3));\n",
              "      fill: #FFFFFF;\n",
              "    }\n",
              "  </style>\n",
              "\n",
              "      <script>\n",
              "        const buttonEl =\n",
              "          document.querySelector('#df-b58d5c48-ce14-4cbe-8557-c104bbed3439 button.colab-df-convert');\n",
              "        buttonEl.style.display =\n",
              "          google.colab.kernel.accessAllowed ? 'block' : 'none';\n",
              "\n",
              "        async function convertToInteractive(key) {\n",
              "          const element = document.querySelector('#df-b58d5c48-ce14-4cbe-8557-c104bbed3439');\n",
              "          const dataTable =\n",
              "            await google.colab.kernel.invokeFunction('convertToInteractive',\n",
              "                                                     [key], {});\n",
              "          if (!dataTable) return;\n",
              "\n",
              "          const docLinkHtml = 'Like what you see? Visit the ' +\n",
              "            '<a target=\"_blank\" href=https://colab.research.google.com/notebooks/data_table.ipynb>data table notebook</a>'\n",
              "            + ' to learn more about interactive tables.';\n",
              "          element.innerHTML = '';\n",
              "          dataTable['output_type'] = 'display_data';\n",
              "          await google.colab.output.renderOutput(dataTable, element);\n",
              "          const docLink = document.createElement('div');\n",
              "          docLink.innerHTML = docLinkHtml;\n",
              "          element.appendChild(docLink);\n",
              "        }\n",
              "      </script>\n",
              "    </div>\n",
              "  </div>\n",
              "  "
            ]
          },
          "metadata": {},
          "execution_count": 20
        }
      ],
      "source": [
        "test_df"
      ]
    },
    {
      "cell_type": "markdown",
      "metadata": {
        "id": "PfBy7RThhVaE"
      },
      "source": [
        "<font color=\"blue\" size=\"5\">Feature Scaling"
      ]
    },
    {
      "cell_type": "code",
      "execution_count": null,
      "metadata": {
        "id": "bWAmJYQUhVaF",
        "scrolled": false
      },
      "outputs": [],
      "source": [
        "# Standardize train and test data using the MinMax Scaler\n",
        "sc = MinMaxScaler(feature_range=(0, 1))\n",
        "\n",
        "train_data = train_df.values\n",
        "train_data = sc.fit_transform(train_data.reshape(-1,1))\n",
        "\n",
        "test_data = test_df.values\n",
        "test_data = sc.fit_transform(test_data.reshape(-1,1))"
      ]
    },
    {
      "cell_type": "code",
      "execution_count": null,
      "metadata": {
        "colab": {
          "base_uri": "https://localhost:8080/"
        },
        "id": "PZwipYVxhVaF",
        "outputId": "258cd86e-1989-4af3-a7e3-d317b0f2e0b7"
      },
      "outputs": [
        {
          "output_type": "execute_result",
          "data": {
            "text/plain": [
              "(265, 1)"
            ]
          },
          "metadata": {},
          "execution_count": 22
        }
      ],
      "source": [
        "test_data.shape"
      ]
    },
    {
      "cell_type": "markdown",
      "metadata": {
        "id": "IgMxmedGhVaG"
      },
      "source": [
        "<font color=\"blue\" size=\"5\">Create a sequence of feature and label data "
      ]
    },
    {
      "cell_type": "code",
      "execution_count": null,
      "metadata": {
        "id": "0gcHD4tohVaG"
      },
      "outputs": [],
      "source": [
        "# Create a list for a sequence of feature data (x_train) and a sequence of label data (y_train)\n",
        "X_train = []\n",
        "y_train = []\n",
        "timestep = 60\n",
        "\n",
        "# Create a 60-days window of historical prices (i-60) as our feature data (x_train) and the following 60-days window as label data (y_train)\n",
        "for i in range (timestep,len(train_data)):\n",
        "    X_train.append(train_data[i-timestep:i,0])\n",
        "    y_train.append(train_data[i,0]) \n",
        "\n",
        "X_train,y_train = np.array(X_train),np.array(y_train)\n"
      ]
    },
    {
      "cell_type": "code",
      "execution_count": null,
      "metadata": {
        "colab": {
          "base_uri": "https://localhost:8080/"
        },
        "id": "yogW5So4hVaH",
        "outputId": "e94c00ee-d46c-472f-fb63-2625ead38cb0"
      },
      "outputs": [
        {
          "output_type": "execute_result",
          "data": {
            "text/plain": [
              "(1438, 60)"
            ]
          },
          "metadata": {},
          "execution_count": 24
        }
      ],
      "source": [
        "X_train.shape"
      ]
    },
    {
      "cell_type": "code",
      "execution_count": null,
      "metadata": {
        "colab": {
          "base_uri": "https://localhost:8080/"
        },
        "id": "ihwFkpNyhVaH",
        "outputId": "4e39a977-df97-4a45-cfe6-322aee47e36e"
      },
      "outputs": [
        {
          "output_type": "execute_result",
          "data": {
            "text/plain": [
              "(1438, 60, 1)"
            ]
          },
          "metadata": {},
          "execution_count": 25
        }
      ],
      "source": [
        "# Reshape the x_train and y_train into a three-dimensional array as part of the requirement to train a LSTM model\n",
        "X_train = np.reshape(X_train,(X_train.shape[0],X_train.shape[1],1)) #adding the batch_size axis\n",
        "X_train.shape"
      ]
    },
    {
      "cell_type": "markdown",
      "metadata": {
        "id": "25jiFjdMhVaI"
      },
      "source": [
        "<font color=\"blue\" size=\"5\">Build the LSTM model"
      ]
    },
    {
      "cell_type": "code",
      "execution_count": null,
      "metadata": {
        "id": "aQ8EFAwYhVaI"
      },
      "outputs": [],
      "source": [
        "# Define a Sequential model which consists of a linear stack of layers.\n",
        "model = Sequential()\n",
        "\n",
        "# Set the return_sequence to true so that the output of the layer will be another sequence of the same length.\n",
        "model.add(LSTM(units=100, return_sequences = True, input_shape =(X_train.shape[1],1)))\n",
        "model.add(Dropout(0.2))\n",
        "\n",
        "model.add(LSTM(units=100, return_sequences = True))\n",
        "model.add(Dropout(0.2))\n",
        "\n",
        "model.add(LSTM(units=100, return_sequences = True))\n",
        "model.add(Dropout(0.2))\n",
        "\n",
        "model.add(LSTM(units=100, return_sequences = False)) # return_sequences is False as we will not add more LSTM layers.\n",
        "model.add(Dropout(0.2))\n",
        "\n",
        "#add the output layer. The output dimension is 1 since we are predicting 1 price each time.\n",
        "model.add(Dense(units =1))"
      ]
    },
    {
      "cell_type": "markdown",
      "metadata": {
        "id": "HxJEIixzhVaJ"
      },
      "source": [
        "<font color=\"blue\" size=\"5\">Model compiling"
      ]
    },
    {
      "cell_type": "code",
      "execution_count": null,
      "metadata": {
        "id": "B1tgpNb6hVaJ"
      },
      "outputs": [],
      "source": [
        "# We are going to use the early_stop to stop training the model if the current loss did not decrease \n",
        "# in the next 10 epochs\n",
        "early_stop = EarlyStopping(monitor='loss',mode='min',patience=10,restore_best_weights=True)\n",
        "\n",
        "optimizer = Adam(learning_rate=0.001)\n",
        "\n",
        "model.compile(optimizer=optimizer,loss=\"mean_squared_error\")"
      ]
    },
    {
      "cell_type": "markdown",
      "metadata": {
        "id": "-af8RpyXhVaJ"
      },
      "source": [
        "<font color=\"blue\" size=\"5\">Model fitting"
      ]
    },
    {
      "cell_type": "code",
      "execution_count": null,
      "metadata": {
        "colab": {
          "base_uri": "https://localhost:8080/"
        },
        "id": "1p5kJ2rDhVaJ",
        "outputId": "564ad8f4-8f05-4fee-c89c-de75aa10d155",
        "scrolled": true
      },
      "outputs": [
        {
          "output_type": "stream",
          "name": "stdout",
          "text": [
            "Epoch 1/100\n",
            "23/23 [==============================] - 13s 263ms/step - loss: 0.0035\n",
            "Epoch 2/100\n",
            "23/23 [==============================] - 6s 260ms/step - loss: 0.0022\n",
            "Epoch 3/100\n",
            "23/23 [==============================] - 6s 261ms/step - loss: 0.0019\n",
            "Epoch 4/100\n",
            "23/23 [==============================] - 6s 262ms/step - loss: 0.0020\n",
            "Epoch 5/100\n",
            "23/23 [==============================] - 6s 262ms/step - loss: 0.0020\n",
            "Epoch 6/100\n",
            "23/23 [==============================] - 6s 262ms/step - loss: 0.0017\n",
            "Epoch 7/100\n",
            "23/23 [==============================] - 6s 263ms/step - loss: 0.0019\n",
            "Epoch 8/100\n",
            "23/23 [==============================] - 6s 259ms/step - loss: 0.0017\n",
            "Epoch 9/100\n",
            "23/23 [==============================] - 6s 261ms/step - loss: 0.0020\n",
            "Epoch 10/100\n",
            "23/23 [==============================] - 6s 261ms/step - loss: 0.0020\n",
            "Epoch 11/100\n",
            "23/23 [==============================] - 6s 260ms/step - loss: 0.0015\n",
            "Epoch 12/100\n",
            "23/23 [==============================] - 6s 260ms/step - loss: 0.0015\n",
            "Epoch 13/100\n",
            "23/23 [==============================] - 6s 260ms/step - loss: 0.0017\n",
            "Epoch 14/100\n",
            "23/23 [==============================] - 6s 262ms/step - loss: 0.0016\n",
            "Epoch 15/100\n",
            "23/23 [==============================] - 6s 261ms/step - loss: 0.0015\n",
            "Epoch 16/100\n",
            "23/23 [==============================] - 6s 263ms/step - loss: 0.0015\n",
            "Epoch 17/100\n",
            "23/23 [==============================] - 6s 263ms/step - loss: 0.0016\n",
            "Epoch 18/100\n",
            "23/23 [==============================] - 7s 290ms/step - loss: 0.0015\n",
            "Epoch 19/100\n",
            "23/23 [==============================] - 6s 266ms/step - loss: 0.0019\n",
            "Epoch 20/100\n",
            "23/23 [==============================] - 6s 265ms/step - loss: 0.0016\n",
            "Epoch 21/100\n",
            "23/23 [==============================] - 6s 262ms/step - loss: 0.0014\n",
            "Epoch 22/100\n",
            "23/23 [==============================] - 6s 261ms/step - loss: 0.0015\n",
            "Epoch 23/100\n",
            "23/23 [==============================] - 6s 259ms/step - loss: 0.0017\n",
            "Epoch 24/100\n",
            "23/23 [==============================] - 6s 262ms/step - loss: 0.0014\n",
            "Epoch 25/100\n",
            "23/23 [==============================] - 6s 261ms/step - loss: 0.0015\n",
            "Epoch 26/100\n",
            "23/23 [==============================] - 6s 264ms/step - loss: 0.0012\n",
            "Epoch 27/100\n",
            "23/23 [==============================] - 6s 265ms/step - loss: 0.0014\n",
            "Epoch 28/100\n",
            "23/23 [==============================] - 6s 259ms/step - loss: 0.0013\n",
            "Epoch 29/100\n",
            "23/23 [==============================] - 6s 262ms/step - loss: 0.0014\n",
            "Epoch 30/100\n",
            "23/23 [==============================] - 6s 261ms/step - loss: 0.0013\n",
            "Epoch 31/100\n",
            "23/23 [==============================] - 6s 262ms/step - loss: 0.0014\n",
            "Epoch 32/100\n",
            "23/23 [==============================] - 6s 262ms/step - loss: 0.0013\n",
            "Epoch 33/100\n",
            "23/23 [==============================] - 6s 260ms/step - loss: 0.0012\n",
            "Epoch 34/100\n",
            "23/23 [==============================] - 6s 262ms/step - loss: 0.0012\n",
            "Epoch 35/100\n",
            "23/23 [==============================] - 6s 263ms/step - loss: 0.0014\n",
            "Epoch 36/100\n",
            "23/23 [==============================] - 6s 261ms/step - loss: 0.0012\n",
            "Epoch 37/100\n",
            "23/23 [==============================] - 6s 264ms/step - loss: 0.0013\n",
            "Epoch 38/100\n",
            "23/23 [==============================] - 6s 267ms/step - loss: 0.0012\n",
            "Epoch 39/100\n",
            "23/23 [==============================] - 7s 279ms/step - loss: 0.0011\n",
            "Epoch 40/100\n",
            "23/23 [==============================] - 6s 263ms/step - loss: 0.0011\n",
            "Epoch 41/100\n",
            "23/23 [==============================] - 6s 262ms/step - loss: 0.0011\n",
            "Epoch 42/100\n",
            "23/23 [==============================] - 6s 264ms/step - loss: 0.0012\n",
            "Epoch 43/100\n",
            "23/23 [==============================] - 6s 261ms/step - loss: 0.0015\n",
            "Epoch 44/100\n",
            "23/23 [==============================] - 6s 266ms/step - loss: 0.0018\n",
            "Epoch 45/100\n",
            "23/23 [==============================] - 6s 260ms/step - loss: 0.0011\n",
            "Epoch 46/100\n",
            "23/23 [==============================] - 6s 263ms/step - loss: 0.0011\n",
            "Epoch 47/100\n",
            "23/23 [==============================] - 6s 262ms/step - loss: 0.0012\n",
            "Epoch 48/100\n",
            "23/23 [==============================] - 6s 264ms/step - loss: 0.0012\n",
            "Epoch 49/100\n",
            "23/23 [==============================] - 6s 263ms/step - loss: 0.0013\n",
            "Epoch 50/100\n",
            "23/23 [==============================] - 6s 260ms/step - loss: 0.0013\n",
            "Epoch 51/100\n",
            "23/23 [==============================] - 6s 261ms/step - loss: 9.8073e-04\n",
            "Epoch 52/100\n",
            "23/23 [==============================] - 6s 261ms/step - loss: 9.9512e-04\n",
            "Epoch 53/100\n",
            "23/23 [==============================] - 6s 260ms/step - loss: 0.0011\n",
            "Epoch 54/100\n",
            "23/23 [==============================] - 6s 264ms/step - loss: 0.0011\n",
            "Epoch 55/100\n",
            "23/23 [==============================] - 6s 263ms/step - loss: 0.0011\n",
            "Epoch 56/100\n",
            "23/23 [==============================] - 6s 261ms/step - loss: 0.0012\n",
            "Epoch 57/100\n",
            "23/23 [==============================] - 6s 262ms/step - loss: 0.0010\n",
            "Epoch 58/100\n",
            "23/23 [==============================] - 6s 265ms/step - loss: 0.0010\n",
            "Epoch 59/100\n",
            "23/23 [==============================] - 7s 291ms/step - loss: 9.7851e-04\n",
            "Epoch 60/100\n",
            "23/23 [==============================] - 6s 263ms/step - loss: 0.0011\n",
            "Epoch 61/100\n",
            "23/23 [==============================] - 6s 262ms/step - loss: 0.0011\n",
            "Epoch 62/100\n",
            "23/23 [==============================] - 6s 266ms/step - loss: 0.0011\n",
            "Epoch 63/100\n",
            "23/23 [==============================] - 6s 264ms/step - loss: 9.7807e-04\n",
            "Epoch 64/100\n",
            "23/23 [==============================] - 6s 264ms/step - loss: 9.6771e-04\n",
            "Epoch 65/100\n",
            "23/23 [==============================] - 6s 263ms/step - loss: 9.0628e-04\n",
            "Epoch 66/100\n",
            "23/23 [==============================] - 6s 262ms/step - loss: 9.6169e-04\n",
            "Epoch 67/100\n",
            "23/23 [==============================] - 6s 263ms/step - loss: 9.7585e-04\n",
            "Epoch 68/100\n",
            "23/23 [==============================] - 6s 264ms/step - loss: 0.0011\n",
            "Epoch 69/100\n",
            "23/23 [==============================] - 6s 265ms/step - loss: 0.0010\n",
            "Epoch 70/100\n",
            "23/23 [==============================] - 6s 264ms/step - loss: 0.0010\n",
            "Epoch 71/100\n",
            "23/23 [==============================] - 6s 262ms/step - loss: 0.0013\n",
            "Epoch 72/100\n",
            "23/23 [==============================] - 6s 264ms/step - loss: 0.0011\n",
            "Epoch 73/100\n",
            "23/23 [==============================] - 6s 261ms/step - loss: 0.0010\n",
            "Epoch 74/100\n",
            "23/23 [==============================] - 6s 262ms/step - loss: 0.0010\n",
            "Epoch 75/100\n",
            "23/23 [==============================] - 6s 262ms/step - loss: 0.0011\n"
          ]
        }
      ],
      "source": [
        "# Training the LSTM model\n",
        "training_hist = model.fit(X_train,y_train,batch_size=64,epochs=100,callbacks=[early_stop])"
      ]
    },
    {
      "cell_type": "code",
      "execution_count": null,
      "metadata": {
        "id": "qeePyOt_hVaJ",
        "colab": {
          "base_uri": "https://localhost:8080/",
          "height": 295
        },
        "outputId": "7bf2aa3e-f3ae-475a-9ff5-ea20d0c9fbe5"
      },
      "outputs": [
        {
          "output_type": "display_data",
          "data": {
            "text/plain": [
              "<Figure size 432x288 with 1 Axes>"
            ],
            "image/png": "[encoded data removed]"
          },
          "metadata": {
            "needs_background": "light"
          }
        }
      ],
      "source": [
        "plt.plot(training_hist.history['loss'])\n",
        "plt.title('Training model loss')\n",
        "plt.ylabel('loss')\n",
        "plt.xlabel('epoch')\n",
        "plt.legend(['train'], loc='upper left')\n",
        "plt.show()"
      ]
    },
    {
      "cell_type": "markdown",
      "metadata": {
        "id": "VaIvUC61hVaK"
      },
      "source": [
        "<font color=\"blue\" size=\"5\">Model prediction"
      ]
    },
    {
      "cell_type": "code",
      "execution_count": null,
      "metadata": {
        "id": "S1iW9_gzhVaK",
        "scrolled": true,
        "colab": {
          "base_uri": "https://localhost:8080/"
        },
        "outputId": "521ddabc-2998-4e8a-e4d3-afe525272900"
      },
      "outputs": [
        {
          "output_type": "execute_result",
          "data": {
            "text/plain": [
              "(205, 1)"
            ]
          },
          "metadata": {},
          "execution_count": 33
        }
      ],
      "source": [
        "# labeled test data\n",
        "y_test = test_data[60:,0:] \n",
        "y_test.shape"
      ]
    },
    {
      "cell_type": "code",
      "execution_count": null,
      "metadata": {
        "id": "pheGCBLohVaK",
        "colab": {
          "base_uri": "https://localhost:8080/"
        },
        "outputId": "93c4e405-05bb-4bb6-dce3-3cd15b7ade58"
      },
      "outputs": [
        {
          "output_type": "execute_result",
          "data": {
            "text/plain": [
              "(205, 60, 1)"
            ]
          },
          "metadata": {},
          "execution_count": 34
        }
      ],
      "source": [
        "# create a  list for the sequence of feature data(X_test)\n",
        "X_test = []\n",
        "length = len(test_data)\n",
        "timestep = 60\n",
        "for i in range(timestep,length):  \n",
        "    X_test.append(test_data[i-timestep:i,0])\n",
        "    \n",
        "X_test = np.array(X_test)\n",
        "X_test = np.reshape(X_test,(X_test.shape[0],X_test.shape[1],1))\n",
        "X_test.shape"
      ]
    },
    {
      "cell_type": "code",
      "execution_count": null,
      "metadata": {
        "id": "OXIK6LkThVaK"
      },
      "outputs": [],
      "source": [
        "# prediction\n",
        "y_pred = model.predict(X_test)"
      ]
    },
    {
      "cell_type": "code",
      "execution_count": null,
      "metadata": {
        "id": "iApoM8qahVaL"
      },
      "outputs": [],
      "source": [
        "# remove the effect of Scaling used before\n",
        "y_prediction = sc.inverse_transform(y_pred)\n",
        "y_prediction.shape"
      ]
    },
    {
      "cell_type": "code",
      "execution_count": null,
      "metadata": {
        "id": "ymGWHTNFhVaL"
      },
      "outputs": [],
      "source": [
        "test_df = test_df.iloc[60:]"
      ]
    },
    {
      "cell_type": "code",
      "execution_count": null,
      "metadata": {
        "id": "9ou58qL6hVaL",
        "scrolled": true
      },
      "outputs": [],
      "source": [
        "test_df.insert(1,\"prediction\",y_prediction)"
      ]
    },
    {
      "cell_type": "code",
      "execution_count": null,
      "metadata": {
        "id": "uwqa1aOjhVaM",
        "colab": {
          "base_uri": "https://localhost:8080/",
          "height": 455
        },
        "outputId": "8fc626cd-805c-4b08-ace7-dadd53d6070f"
      },
      "outputs": [
        {
          "output_type": "execute_result",
          "data": {
            "text/plain": [
              "                 Close  prediction\n",
              "Date                              \n",
              "22-09-2021  590.650024  572.504456\n",
              "23-09-2021  593.260010  574.658997\n",
              "24-09-2021  592.390015  580.938354\n",
              "27-09-2021  592.640015  585.169189\n",
              "28-09-2021  583.849976  586.079163\n",
              "...                ...         ...\n",
              "11-07-2022  177.339996  189.461624\n",
              "12-07-2022  174.449997  188.909439\n",
              "13-07-2022  176.559998  185.295334\n",
              "14-07-2022  174.779999  181.343109\n",
              "15-07-2022  189.110001  178.447754\n",
              "\n",
              "[205 rows x 2 columns]"
            ],
            "text/html": [
              "\n",
              "  <div id=\"df-25cc05e2-f300-4737-bda6-d635e50d2c6a\">\n",
              "    <div class=\"colab-df-container\">\n",
              "      <div>\n",
              "<style scoped>\n",
              "    .dataframe tbody tr th:only-of-type {\n",
              "        vertical-align: middle;\n",
              "    }\n",
              "\n",
              "    .dataframe tbody tr th {\n",
              "        vertical-align: top;\n",
              "    }\n",
              "\n",
              "    .dataframe thead th {\n",
              "        text-align: right;\n",
              "    }\n",
              "</style>\n",
              "<table border=\"1\" class=\"dataframe\">\n",
              "  <thead>\n",
              "    <tr style=\"text-align: right;\">\n",
              "      <th></th>\n",
              "      <th>Close</th>\n",
              "      <th>prediction</th>\n",
              "    </tr>\n",
              "    <tr>\n",
              "      <th>Date</th>\n",
              "      <th></th>\n",
              "      <th></th>\n",
              "    </tr>\n",
              "  </thead>\n",
              "  <tbody>\n",
              "    <tr>\n",
              "      <th>22-09-2021</th>\n",
              "      <td>590.650024</td>\n",
              "      <td>572.504456</td>\n",
              "    </tr>\n",
              "    <tr>\n",
              "      <th>23-09-2021</th>\n",
              "      <td>593.260010</td>\n",
              "      <td>574.658997</td>\n",
              "    </tr>\n",
              "    <tr>\n",
              "      <th>24-09-2021</th>\n",
              "      <td>592.390015</td>\n",
              "      <td>580.938354</td>\n",
              "    </tr>\n",
              "    <tr>\n",
              "      <th>27-09-2021</th>\n",
              "      <td>592.640015</td>\n",
              "      <td>585.169189</td>\n",
              "    </tr>\n",
              "    <tr>\n",
              "      <th>28-09-2021</th>\n",
              "      <td>583.849976</td>\n",
              "      <td>586.079163</td>\n",
              "    </tr>\n",
              "    <tr>\n",
              "      <th>...</th>\n",
              "      <td>...</td>\n",
              "      <td>...</td>\n",
              "    </tr>\n",
              "    <tr>\n",
              "      <th>11-07-2022</th>\n",
              "      <td>177.339996</td>\n",
              "      <td>189.461624</td>\n",
              "    </tr>\n",
              "    <tr>\n",
              "      <th>12-07-2022</th>\n",
              "      <td>174.449997</td>\n",
              "      <td>188.909439</td>\n",
              "    </tr>\n",
              "    <tr>\n",
              "      <th>13-07-2022</th>\n",
              "      <td>176.559998</td>\n",
              "      <td>185.295334</td>\n",
              "    </tr>\n",
              "    <tr>\n",
              "      <th>14-07-2022</th>\n",
              "      <td>174.779999</td>\n",
              "      <td>181.343109</td>\n",
              "    </tr>\n",
              "    <tr>\n",
              "      <th>15-07-2022</th>\n",
              "      <td>189.110001</td>\n",
              "      <td>178.447754</td>\n",
              "    </tr>\n",
              "  </tbody>\n",
              "</table>\n",
              "<p>205 rows × 2 columns</p>\n",
              "</div>\n",
              "      <button class=\"colab-df-convert\" onclick=\"convertToInteractive('df-25cc05e2-f300-4737-bda6-d635e50d2c6a')\"\n",
              "              title=\"Convert this dataframe to an interactive table.\"\n",
              "              style=\"display:none;\">\n",
              "        \n",
              "  <svg xmlns=\"http://www.w3.org/2000/svg\" height=\"24px\"viewBox=\"0 0 24 24\"\n",
              "       width=\"24px\">\n",
              "    <path d=\"M0 0h24v24H0V0z\" fill=\"none\"/>\n",
              "    <path d=\"M18.56 5.44l.94 2.06.94-2.06 2.06-.94-2.06-.94-.94-2.06-.94 2.06-2.06.94zm-11 1L8.5 8.5l.94-2.06 2.06-.94-2.06-.94L8.5 2.5l-.94 2.06-2.06.94zm10 10l.94 2.06.94-2.06 2.06-.94-2.06-.94-.94-2.06-.94 2.06-2.06.94z\"/><path d=\"M17.41 7.96l-1.37-1.37c-.4-.4-.92-.59-1.43-.59-.52 0-1.04.2-1.43.59L10.3 9.45l-7.72 7.72c-.78.78-.78 2.05 0 2.83L4 21.41c.39.39.9.59 1.41.59.51 0 1.02-.2 1.41-.59l7.78-7.78 2.81-2.81c.8-.78.8-2.07 0-2.86zM5.41 20L4 18.59l7.72-7.72 1.47 1.35L5.41 20z\"/>\n",
              "  </svg>\n",
              "      </button>\n",
              "      \n",
              "  <style>\n",
              "    .colab-df-container {\n",
              "      display:flex;\n",
              "      flex-wrap:wrap;\n",
              "      gap: 12px;\n",
              "    }\n",
              "\n",
              "    .colab-df-convert {\n",
              "      background-color: #E8F0FE;\n",
              "      border: none;\n",
              "      border-radius: 50%;\n",
              "      cursor: pointer;\n",
              "      display: none;\n",
              "      fill: #1967D2;\n",
              "      height: 32px;\n",
              "      padding: 0 0 0 0;\n",
              "      width: 32px;\n",
              "    }\n",
              "\n",
              "    .colab-df-convert:hover {\n",
              "      background-color: #E2EBFA;\n",
              "      box-shadow: 0px 1px 2px rgba(60, 64, 67, 0.3), 0px 1px 3px 1px rgba(60, 64, 67, 0.15);\n",
              "      fill: #174EA6;\n",
              "    }\n",
              "\n",
              "    [theme=dark] .colab-df-convert {\n",
              "      background-color: #3B4455;\n",
              "      fill: #D2E3FC;\n",
              "    }\n",
              "\n",
              "    [theme=dark] .colab-df-convert:hover {\n",
              "      background-color: #434B5C;\n",
              "      box-shadow: 0px 1px 3px 1px rgba(0, 0, 0, 0.15);\n",
              "      filter: drop-shadow(0px 1px 2px rgba(0, 0, 0, 0.3));\n",
              "      fill: #FFFFFF;\n",
              "    }\n",
              "  </style>\n",
              "\n",
              "      <script>\n",
              "        const buttonEl =\n",
              "          document.querySelector('#df-25cc05e2-f300-4737-bda6-d635e50d2c6a button.colab-df-convert');\n",
              "        buttonEl.style.display =\n",
              "          google.colab.kernel.accessAllowed ? 'block' : 'none';\n",
              "\n",
              "        async function convertToInteractive(key) {\n",
              "          const element = document.querySelector('#df-25cc05e2-f300-4737-bda6-d635e50d2c6a');\n",
              "          const dataTable =\n",
              "            await google.colab.kernel.invokeFunction('convertToInteractive',\n",
              "                                                     [key], {});\n",
              "          if (!dataTable) return;\n",
              "\n",
              "          const docLinkHtml = 'Like what you see? Visit the ' +\n",
              "            '<a target=\"_blank\" href=https://colab.research.google.com/notebooks/data_table.ipynb>data table notebook</a>'\n",
              "            + ' to learn more about interactive tables.';\n",
              "          element.innerHTML = '';\n",
              "          dataTable['output_type'] = 'display_data';\n",
              "          await google.colab.output.renderOutput(dataTable, element);\n",
              "          const docLink = document.createElement('div');\n",
              "          docLink.innerHTML = docLinkHtml;\n",
              "          element.appendChild(docLink);\n",
              "        }\n",
              "      </script>\n",
              "    </div>\n",
              "  </div>\n",
              "  "
            ]
          },
          "metadata": {},
          "execution_count": 40
        }
      ],
      "source": [
        "test_df"
      ]
    },
    {
      "cell_type": "markdown",
      "metadata": {
        "id": "lotLYczIhVaM"
      },
      "source": [
        "<font color=\"blue\" size=\"5\">Result Visualisation"
      ]
    },
    {
      "cell_type": "markdown",
      "source": [
        "<font color=\"darkgreen\" size=\"3\">Netflix Stock Price Prediction"
      ],
      "metadata": {
        "id": "sWMy4uRihgox"
      }
    },
    {
      "cell_type": "code",
      "execution_count": null,
      "metadata": {
        "id": "Bum-3vzMhVaM",
        "colab": {
          "base_uri": "https://localhost:8080/",
          "height": 649
        },
        "outputId": "2feb66cd-a7f0-41bb-e334-8b7cb2a5ec47"
      },
      "outputs": [
        {
          "output_type": "display_data",
          "data": {
            "text/plain": [
              "<Figure size 1440x720 with 1 Axes>"
            ],
            "image/png": "[encoded data removed]"
          },
          "metadata": {}
        }
      ],
      "source": [
        "plt.figure(figsize=(20,10))\n",
        "sns.set()\n",
        "\n",
        "ax = sns.lineplot(x=test_df.index , y=test_df[\"Close\"], color = 'green', label = 'Actual Stock Price')\n",
        "ax = sns.lineplot(x=test_df.index , y=test_df[\"prediction\"],color = 'orange' , label = 'Predicted Stock Price')\n",
        "\n",
        "ax.tick_params(axis=\"x\", rotation=30, labelsize=10, length=0)\n",
        "ax.xaxis.set_major_locator(plt.MaxNLocator(10))\n",
        "\n",
        "plt.title('Netflix Stock Price Prediction')\n",
        "plt.xlabel('Date')\n",
        "plt.ylabel('Stock Price')\n",
        "plt.legend()\n",
        "plt.show()"
      ]
    },
    {
      "cell_type": "markdown",
      "source": [
        "<font color=\"darkgreen\" size=\"3\">Netflix Daily Stock Prices"
      ],
      "metadata": {
        "id": "keeswfpEicCh"
      }
    },
    {
      "cell_type": "code",
      "execution_count": null,
      "metadata": {
        "id": "1rnf4HaRhVaM",
        "colab": {
          "base_uri": "https://localhost:8080/",
          "height": 667
        },
        "outputId": "cf8339ea-6409-4f26-93db-45f07ede9145"
      },
      "outputs": [
        {
          "output_type": "execute_result",
          "data": {
            "text/plain": [
              "[]"
            ]
          },
          "metadata": {},
          "execution_count": 52
        },
        {
          "output_type": "display_data",
          "data": {
            "text/plain": [
              "<Figure size 1440x720 with 1 Axes>"
            ],
            "image/png": "[encoded data removed]"
          },
          "metadata": {}
        }
      ],
      "source": [
        "plt.figure(figsize=(20,10))\n",
        "sns.set()\n",
        "\n",
        "ax = sns.lineplot(x=train_df.index , y=train_df[\"Close\"] , label = 'Stock Prices Used in training')\n",
        "ax = sns.lineplot(x=test_df.index , y=test_df[\"Close\"] ,  color=\"green\" , label = 'Stock Prices Used in testing')\n",
        "ax = sns.lineplot(x=test_df.index , y=test_df[\"prediction\"] , color=\"orange\" , label = 'Predicted Stock Prices')\n",
        "\n",
        "ax.tick_params(axis=\"x\", rotation=30, labelsize=10, length=0)\n",
        "ax.xaxis.set_major_locator(plt.MaxNLocator(10))\n",
        "\n",
        "plt.title('Netflix Daily Stock Prices')\n",
        "plt.xlabel('Date')\n",
        "plt.ylabel('Stock Price')\n",
        "plt.legend()\n",
        "plt.plot()"
      ]
    },
    {
      "cell_type": "markdown",
      "metadata": {
        "id": "gh4yexzuhVaN"
      },
      "source": [
        "<font size=\"8\"> Thank You !!"
      ]
    }
  ],
  "metadata": {
    "colab": {
      "name": "Netflix_Stock_Prices.ipynb",
      "provenance": [],
      "collapsed_sections": []
    },
    "kernelspec": {
      "display_name": "Python 3",
      "language": "python",
      "name": "python3"
    },
    "language_info": {
      "codemirror_mode": {
        "name": "ipython",
        "version": 3
      },
      "file_extension": ".py",
      "mimetype": "text/x-python",
      "name": "python",
      "nbconvert_exporter": "python",
      "pygments_lexer": "ipython3",
      "version": "3.7.6"
    }
  },
  "nbformat": 4,
  "nbformat_minor": 0
}